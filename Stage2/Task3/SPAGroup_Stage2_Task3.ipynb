{
  "cells": [
    {
      "cell_type": "markdown",
      "metadata": {
        "id": "GnTqN0wHiFrm"
      },
      "source": [
        "#Stage 2   \n",
        "VIP CUP   \n",
        "______\n",
        "**SPA Group**  \n",
        "Sajjad Jabbarzade   \n",
        "Parham Soltani  \n",
        "Amirtaha Aghasi   \n",
        "\n",
        "______   "
      ]
    },
    {
      "cell_type": "markdown",
      "metadata": {
        "id": "sD8l5BdxmsAB"
      },
      "source": [
        "##Libraries"
      ]
    },
    {
      "cell_type": "code",
      "execution_count": 1,
      "metadata": {
        "id": "j6cPth8zcm1E"
      },
      "outputs": [],
      "source": [
        "import cv2\n",
        "import numpy as np\n",
        "from matplotlib import pyplot as plt"
      ]
    },
    {
      "cell_type": "markdown",
      "metadata": {
        "id": "UNSqPH1wkDJd"
      },
      "source": [
        "##Preparing Data   \n",
        "Importing the road.zip file into the Google VM Drive"
      ]
    },
    {
      "cell_type": "code",
      "execution_count": 3,
      "metadata": {
        "id": "bDJXpHvpyEZH"
      },
      "outputs": [],
      "source": [
        "from google.colab import files"
      ]
    },
    {
      "cell_type": "code",
      "execution_count": 4,
      "metadata": {
        "colab": {
          "base_uri": "https://localhost:8080/",
          "height": 73
        },
        "id": "vCNMYWKMVluW",
        "outputId": "f6b34121-9755-4762-8c94-c633f669ff25"
      },
      "outputs": [
        {
          "data": {
            "text/html": [
              "\n",
              "     <input type=\"file\" id=\"files-06f272fc-f7c6-41cd-9891-5cb686dbb827\" name=\"files[]\" multiple disabled\n",
              "        style=\"border:none\" />\n",
              "     <output id=\"result-06f272fc-f7c6-41cd-9891-5cb686dbb827\">\n",
              "      Upload widget is only available when the cell has been executed in the\n",
              "      current browser session. Please rerun this cell to enable.\n",
              "      </output>\n",
              "      <script>// Copyright 2017 Google LLC\n",
              "//\n",
              "// Licensed under the Apache License, Version 2.0 (the \"License\");\n",
              "// you may not use this file except in compliance with the License.\n",
              "// You may obtain a copy of the License at\n",
              "//\n",
              "//      http://www.apache.org/licenses/LICENSE-2.0\n",
              "//\n",
              "// Unless required by applicable law or agreed to in writing, software\n",
              "// distributed under the License is distributed on an \"AS IS\" BASIS,\n",
              "// WITHOUT WARRANTIES OR CONDITIONS OF ANY KIND, either express or implied.\n",
              "// See the License for the specific language governing permissions and\n",
              "// limitations under the License.\n",
              "\n",
              "/**\n",
              " * @fileoverview Helpers for google.colab Python module.\n",
              " */\n",
              "(function(scope) {\n",
              "function span(text, styleAttributes = {}) {\n",
              "  const element = document.createElement('span');\n",
              "  element.textContent = text;\n",
              "  for (const key of Object.keys(styleAttributes)) {\n",
              "    element.style[key] = styleAttributes[key];\n",
              "  }\n",
              "  return element;\n",
              "}\n",
              "\n",
              "// Max number of bytes which will be uploaded at a time.\n",
              "const MAX_PAYLOAD_SIZE = 100 * 1024;\n",
              "\n",
              "function _uploadFiles(inputId, outputId) {\n",
              "  const steps = uploadFilesStep(inputId, outputId);\n",
              "  const outputElement = document.getElementById(outputId);\n",
              "  // Cache steps on the outputElement to make it available for the next call\n",
              "  // to uploadFilesContinue from Python.\n",
              "  outputElement.steps = steps;\n",
              "\n",
              "  return _uploadFilesContinue(outputId);\n",
              "}\n",
              "\n",
              "// This is roughly an async generator (not supported in the browser yet),\n",
              "// where there are multiple asynchronous steps and the Python side is going\n",
              "// to poll for completion of each step.\n",
              "// This uses a Promise to block the python side on completion of each step,\n",
              "// then passes the result of the previous step as the input to the next step.\n",
              "function _uploadFilesContinue(outputId) {\n",
              "  const outputElement = document.getElementById(outputId);\n",
              "  const steps = outputElement.steps;\n",
              "\n",
              "  const next = steps.next(outputElement.lastPromiseValue);\n",
              "  return Promise.resolve(next.value.promise).then((value) => {\n",
              "    // Cache the last promise value to make it available to the next\n",
              "    // step of the generator.\n",
              "    outputElement.lastPromiseValue = value;\n",
              "    return next.value.response;\n",
              "  });\n",
              "}\n",
              "\n",
              "/**\n",
              " * Generator function which is called between each async step of the upload\n",
              " * process.\n",
              " * @param {string} inputId Element ID of the input file picker element.\n",
              " * @param {string} outputId Element ID of the output display.\n",
              " * @return {!Iterable<!Object>} Iterable of next steps.\n",
              " */\n",
              "function* uploadFilesStep(inputId, outputId) {\n",
              "  const inputElement = document.getElementById(inputId);\n",
              "  inputElement.disabled = false;\n",
              "\n",
              "  const outputElement = document.getElementById(outputId);\n",
              "  outputElement.innerHTML = '';\n",
              "\n",
              "  const pickedPromise = new Promise((resolve) => {\n",
              "    inputElement.addEventListener('change', (e) => {\n",
              "      resolve(e.target.files);\n",
              "    });\n",
              "  });\n",
              "\n",
              "  const cancel = document.createElement('button');\n",
              "  inputElement.parentElement.appendChild(cancel);\n",
              "  cancel.textContent = 'Cancel upload';\n",
              "  const cancelPromise = new Promise((resolve) => {\n",
              "    cancel.onclick = () => {\n",
              "      resolve(null);\n",
              "    };\n",
              "  });\n",
              "\n",
              "  // Wait for the user to pick the files.\n",
              "  const files = yield {\n",
              "    promise: Promise.race([pickedPromise, cancelPromise]),\n",
              "    response: {\n",
              "      action: 'starting',\n",
              "    }\n",
              "  };\n",
              "\n",
              "  cancel.remove();\n",
              "\n",
              "  // Disable the input element since further picks are not allowed.\n",
              "  inputElement.disabled = true;\n",
              "\n",
              "  if (!files) {\n",
              "    return {\n",
              "      response: {\n",
              "        action: 'complete',\n",
              "      }\n",
              "    };\n",
              "  }\n",
              "\n",
              "  for (const file of files) {\n",
              "    const li = document.createElement('li');\n",
              "    li.append(span(file.name, {fontWeight: 'bold'}));\n",
              "    li.append(span(\n",
              "        `(${file.type || 'n/a'}) - ${file.size} bytes, ` +\n",
              "        `last modified: ${\n",
              "            file.lastModifiedDate ? file.lastModifiedDate.toLocaleDateString() :\n",
              "                                    'n/a'} - `));\n",
              "    const percent = span('0% done');\n",
              "    li.appendChild(percent);\n",
              "\n",
              "    outputElement.appendChild(li);\n",
              "\n",
              "    const fileDataPromise = new Promise((resolve) => {\n",
              "      const reader = new FileReader();\n",
              "      reader.onload = (e) => {\n",
              "        resolve(e.target.result);\n",
              "      };\n",
              "      reader.readAsArrayBuffer(file);\n",
              "    });\n",
              "    // Wait for the data to be ready.\n",
              "    let fileData = yield {\n",
              "      promise: fileDataPromise,\n",
              "      response: {\n",
              "        action: 'continue',\n",
              "      }\n",
              "    };\n",
              "\n",
              "    // Use a chunked sending to avoid message size limits. See b/62115660.\n",
              "    let position = 0;\n",
              "    do {\n",
              "      const length = Math.min(fileData.byteLength - position, MAX_PAYLOAD_SIZE);\n",
              "      const chunk = new Uint8Array(fileData, position, length);\n",
              "      position += length;\n",
              "\n",
              "      const base64 = btoa(String.fromCharCode.apply(null, chunk));\n",
              "      yield {\n",
              "        response: {\n",
              "          action: 'append',\n",
              "          file: file.name,\n",
              "          data: base64,\n",
              "        },\n",
              "      };\n",
              "\n",
              "      let percentDone = fileData.byteLength === 0 ?\n",
              "          100 :\n",
              "          Math.round((position / fileData.byteLength) * 100);\n",
              "      percent.textContent = `${percentDone}% done`;\n",
              "\n",
              "    } while (position < fileData.byteLength);\n",
              "  }\n",
              "\n",
              "  // All done.\n",
              "  yield {\n",
              "    response: {\n",
              "      action: 'complete',\n",
              "    }\n",
              "  };\n",
              "}\n",
              "\n",
              "scope.google = scope.google || {};\n",
              "scope.google.colab = scope.google.colab || {};\n",
              "scope.google.colab._files = {\n",
              "  _uploadFiles,\n",
              "  _uploadFilesContinue,\n",
              "};\n",
              "})(self);\n",
              "</script> "
            ],
            "text/plain": [
              "<IPython.core.display.HTML object>"
            ]
          },
          "metadata": {},
          "output_type": "display_data"
        },
        {
          "name": "stdout",
          "output_type": "stream",
          "text": [
            "Saving Road.zip to Road.zip\n"
          ]
        }
      ],
      "source": [
        "uploaded = files.upload()"
      ]
    },
    {
      "cell_type": "code",
      "execution_count": 5,
      "metadata": {
        "colab": {
          "base_uri": "https://localhost:8080/"
        },
        "id": "UJWfz-037lwN",
        "outputId": "c6d3b71a-661f-46af-f74c-8b1c4c638bf8"
      },
      "outputs": [
        {
          "name": "stdout",
          "output_type": "stream",
          "text": [
            "Archive:  Road.zip\n",
            "  inflating: Road.mp4                \n"
          ]
        }
      ],
      "source": [
        "!unzip Road.zip"
      ]
    },
    {
      "cell_type": "markdown",
      "metadata": {
        "id": "YFQRFDujg5cA"
      },
      "source": [
        "##Functions"
      ]
    },
    {
      "cell_type": "markdown",
      "metadata": {
        "id": "grBUcwLQLb_t"
      },
      "source": [
        "###Lane Detector Algorithm"
      ]
    },
    {
      "cell_type": "markdown",
      "metadata": {
        "id": "6kuFYTYFMKSx"
      },
      "source": [
        "Canny Edge Detection"
      ]
    },
    {
      "cell_type": "code",
      "execution_count": 6,
      "metadata": {
        "id": "zma_CLASAuzk"
      },
      "outputs": [],
      "source": [
        "def region_selection(image):\n",
        "\tmask = np.zeros_like(image)\n",
        "\tif len(image.shape) > 2:\n",
        "\t\tchannel_count = image.shape[2]\n",
        "\t\tignore_mask_color = (255,) * channel_count\n",
        "\telse:\n",
        "\t\tignore_mask_color = 255\n",
        "\trows, cols = image.shape[:2]\n",
        "\tbottom_left = [cols * 0.1, rows * 0.95]\n",
        "\ttop_left\t = [cols * 0.4, rows * 0.6]\n",
        "\tbottom_right = [cols * 0.9, rows * 0.95]\n",
        "\ttop_right = [cols * 0.6, rows * 0.6]\n",
        "\tvertices = np.array([[bottom_left, top_left, top_right, bottom_right]], dtype=np.int32)\n",
        "\tcv2.fillPoly(mask, vertices, ignore_mask_color)\n",
        "\tmasked_image = cv2.bitwise_and(image, mask)\n",
        "\treturn masked_image"
      ]
    },
    {
      "cell_type": "markdown",
      "metadata": {
        "id": "FM7EqwX8Lyvg"
      },
      "source": [
        "Extract the region of interest in the input image with Hough Transform"
      ]
    },
    {
      "cell_type": "code",
      "execution_count": 7,
      "metadata": {
        "id": "8s8ItkgrFwgt"
      },
      "outputs": [],
      "source": [
        "def hough_transform(image):\n",
        "\trho = 1 # Distance resolution of the accumulator in pixels\n",
        "\ttheta = np.pi/180 # Angle resolution of the accumulator in radians\n",
        "\tthreshold = 20\n",
        "\tminLineLength = 20\n",
        "\tmaxLineGap = 500\n",
        "\treturn cv2.HoughLinesP(image, rho = rho, theta = theta, threshold = threshold,\n",
        "\t\t\t\t\t\tminLineLength = minLineLength, maxLineGap = maxLineGap)"
      ]
    },
    {
      "cell_type": "markdown",
      "metadata": {
        "id": "7-SWp4D0MM5L"
      },
      "source": [
        "###Plot Lines on video frames"
      ]
    },
    {
      "cell_type": "markdown",
      "metadata": {
        "id": "hIBSv4j_Mdqi"
      },
      "source": [
        "1. Average_Slope_Intercept: Find the slope and intercept of the left and right lanes of each image"
      ]
    },
    {
      "cell_type": "code",
      "execution_count": 8,
      "metadata": {
        "id": "ho3m7q-TMl-O"
      },
      "outputs": [],
      "source": [
        "def average_slope_intercept(lines):\n",
        "\tleft_lines = [] #(slope, intercept)\n",
        "\tleft_weights = [] #(length,)\n",
        "\tright_lines = [] #(slope, intercept)\n",
        "\tright_weights = [] #(length,)\n",
        "\tfor line in lines:\n",
        "\t\tfor x1, y1, x2, y2 in line:\n",
        "\t\t\tif x1 == x2:\n",
        "\t\t\t\tcontinue\n",
        "\t\t\tslope = (y2 - y1) / (x2 - x1)\n",
        "\t\t\tintercept = y1 - (slope * x1)\n",
        "\t\t\tlength = np.sqrt(((y2 - y1) ** 2) + ((x2 - x1) ** 2))\n",
        "\t\t\tif slope < 0:\n",
        "\t\t\t\tleft_lines.append((slope, intercept))\n",
        "\t\t\t\tleft_weights.append((length))\n",
        "\t\t\telse:\n",
        "\t\t\t\tright_lines.append((slope, intercept))\n",
        "\t\t\t\tright_weights.append((length))\n",
        "\tleft_lane = np.dot(left_weights, left_lines) / np.sum(left_weights) if len(left_weights) > 0 else None\n",
        "\tright_lane = np.dot(right_weights, right_lines) / np.sum(right_weights) if len(right_weights) > 0 else None\n",
        "\treturn left_lane, right_lane"
      ]
    },
    {
      "cell_type": "markdown",
      "metadata": {
        "id": "d5-sNk6aMppw"
      },
      "source": [
        "2. Pixel_Points: Converts the slope and intercept of each line into pixel points"
      ]
    },
    {
      "cell_type": "code",
      "execution_count": 9,
      "metadata": {
        "id": "3CuaPpI3MvoY"
      },
      "outputs": [],
      "source": [
        "def pixel_points(y1, y2, line):\n",
        "\tif line is None:\n",
        "\t\treturn None\n",
        "\tslope, intercept = line\n",
        "\tx1 = int((y1 - intercept)/slope)\n",
        "\tx2 = int((y2 - intercept)/slope)\n",
        "\ty1 = int(y1)\n",
        "\ty2 = int(y2)\n",
        "\treturn ((x1, y1), (x2, y2))"
      ]
    },
    {
      "cell_type": "markdown",
      "metadata": {
        "id": "DX0snZBOM0G1"
      },
      "source": [
        "3. Lane_Lines: Create full lenght lines from pixel points"
      ]
    },
    {
      "cell_type": "code",
      "execution_count": 10,
      "metadata": {
        "id": "fVx37XEFM2-S"
      },
      "outputs": [],
      "source": [
        "def lane_lines(image, lines):\n",
        "\tleft_lane, right_lane = average_slope_intercept(lines)\n",
        "\ty1 = image.shape[0]\n",
        "\ty2 = y1 * 0.6\n",
        "\tleft_line = pixel_points(y1, y2, left_lane)\n",
        "\tright_line = pixel_points(y1, y2, right_lane)\n",
        "\treturn left_line, right_line"
      ]
    },
    {
      "cell_type": "markdown",
      "metadata": {
        "id": "wfvqIJH_M52n"
      },
      "source": [
        "4. Draw_Lane_Lines: Draw lines onto the input image"
      ]
    },
    {
      "cell_type": "code",
      "execution_count": 11,
      "metadata": {
        "id": "RY__GYVCF5Nu"
      },
      "outputs": [],
      "source": [
        "def draw_lane_lines(image, lines, color=[255, 0, 0], thickness=12):\n",
        "\tline_image = np.zeros_like(image)\n",
        "\tfor line in lines:\n",
        "\t\tif line is not None:\n",
        "\t\t\tcv2.line(line_image, *line, color, thickness)\n",
        "\treturn cv2.addWeighted(image, 1.0, line_image, 1.0, 0.0)"
      ]
    },
    {
      "cell_type": "markdown",
      "metadata": {
        "id": "ZwanRrPsNTD5"
      },
      "source": [
        "###Processing"
      ]
    },
    {
      "cell_type": "code",
      "execution_count": 12,
      "metadata": {
        "id": "h2yTAFHCAu2N"
      },
      "outputs": [],
      "source": [
        "def frame_processor(image):\n",
        "\tgrayscale = cv2.cvtColor(image, cv2.COLOR_BGR2GRAY)\n",
        "\tkernel_size = 5\n",
        "\tblur = cv2.GaussianBlur(grayscale, (kernel_size, kernel_size), 0)\n",
        "\tlow_t = 50\n",
        "\thigh_t = 150\n",
        "\tedges = cv2.Canny(blur, low_t, high_t)\n",
        "\tregion = region_selection(edges)\n",
        "\though = hough_transform(region)\n",
        "\tresult = draw_lane_lines(image, lane_lines(image, hough))\n",
        "\treturn result"
      ]
    },
    {
      "cell_type": "code",
      "execution_count": 13,
      "metadata": {
        "id": "jKONTFObSwKW"
      },
      "outputs": [],
      "source": [
        "def get_fps(inputvideo):\n",
        "  return int(inputvideo.get(cv2.CAP_PROP_FPS))"
      ]
    },
    {
      "cell_type": "code",
      "execution_count": 17,
      "metadata": {
        "id": "jGb1hDDGQhMw"
      },
      "outputs": [],
      "source": [
        "def process_video(inputvideopath, outputvideopath):\n",
        "  input_video = cv2.VideoCapture(inputvideopath)\n",
        "  width = int(input_video.get(cv2.CAP_PROP_FRAME_WIDTH))\n",
        "  height = int(input_video.get(cv2.CAP_PROP_FRAME_HEIGHT))\n",
        "  fps = get_fps(input_video)\n",
        "  print(f\"The FPS of the input video = {fps}\")\n",
        "  output_video = cv2.VideoWriter(outputvideopath, cv2.VideoWriter_fourcc(*\"XVID\"), fps, (width, height))\n",
        "  while True:\n",
        "      ok, frame = input_video.read()\n",
        "      if not ok:\n",
        "          break\n",
        "      processed_frame = frame_processor(frame)\n",
        "      output_video.write(processed_frame)\n",
        "  input_video.release()\n",
        "  output_video.release()\n",
        "  print(\"|---------- Done ----------|\")"
      ]
    },
    {
      "cell_type": "markdown",
      "metadata": {
        "id": "qYDM5zQce5S_"
      },
      "source": [
        "##Task 3"
      ]
    },
    {
      "cell_type": "code",
      "execution_count": 15,
      "metadata": {
        "id": "QpHjvLTRDVne"
      },
      "outputs": [],
      "source": [
        "video_input_file_name = \"/content/Road.mp4\"\n",
        "video_output_file_name = \"Our Output.mp4\""
      ]
    },
    {
      "cell_type": "code",
      "execution_count": 16,
      "metadata": {
        "colab": {
          "base_uri": "https://localhost:8080/"
        },
        "id": "Bpsjwg63G1Ou",
        "outputId": "61083839-46d8-435d-f151-93d2aa93e7d8"
      },
      "outputs": [
        {
          "name": "stdout",
          "output_type": "stream",
          "text": [
            "50\n"
          ]
        }
      ],
      "source": [
        "process_video(video_input_file_name,video_output_file_name)"
      ]
    }
  ],
  "metadata": {
    "colab": {
      "collapsed_sections": [
        "sD8l5BdxmsAB",
        "UNSqPH1wkDJd",
        "YFQRFDujg5cA",
        "grBUcwLQLb_t",
        "7-SWp4D0MM5L",
        "ZwanRrPsNTD5",
        "qYDM5zQce5S_"
      ],
      "provenance": []
    },
    "kernelspec": {
      "display_name": "Python 3",
      "name": "python3"
    },
    "language_info": {
      "name": "python"
    }
  },
  "nbformat": 4,
  "nbformat_minor": 0
}
