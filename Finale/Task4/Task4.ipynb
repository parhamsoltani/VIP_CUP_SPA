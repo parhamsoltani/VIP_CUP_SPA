{
  "cells": [
    {
      "cell_type": "markdown",
      "source": [
        "#Final   \n",
        "VIP CUP   \n",
        "______\n",
        "**SPA Group**  \n",
        "Sajad Jabarzade Ghandilou   \n",
        "Parham Soltani   \n",
        "Amirtaha Aghasi\n",
        "______   "
      ],
      "metadata": {
        "id": "t_x9xBkliqVk"
      }
    },
    {
      "cell_type": "markdown",
      "source": [
        "\n",
        "\n",
        "\n",
        "##Libraries"
      ],
      "metadata": {
        "id": "c0FbtNoMiy3T"
      }
    },
    {
      "cell_type": "code",
      "source": [
        "import cv2\n",
        "import numpy as np"
      ],
      "metadata": {
        "id": "0Ud_CW0yROxH"
      },
      "execution_count": null,
      "outputs": []
    },
    {
      "cell_type": "code",
      "source": [
        "from IPython.display import display\n",
        "from base64 import b64decode\n",
        "from google.colab.patches import cv2_imshow"
      ],
      "metadata": {
        "id": "8A0pgUN5RPYZ"
      },
      "execution_count": null,
      "outputs": []
    },
    {
      "cell_type": "markdown",
      "source": [
        "##Preparing webcam"
      ],
      "metadata": {
        "id": "GZzGqVKYi4cp"
      }
    },
    {
      "cell_type": "code",
      "source": [
        "webCam = cv2.VideoCapture(0)  # Try 0 for the default camera\n",
        "\n",
        "# Check if the webcam was successfully opened\n",
        "if not webCam.isOpened():\n",
        "    print(\"Error: Could not access the webcam.\")\n",
        "    exit()"
      ],
      "metadata": {
        "id": "xirzdu9FRQ4W"
      },
      "execution_count": null,
      "outputs": []
    },
    {
      "cell_type": "markdown",
      "source": [
        "##Functions"
      ],
      "metadata": {
        "id": "UEbPtS2xjGzV"
      }
    },
    {
      "cell_type": "code",
      "source": [
        "faceClassifier = cv2.CascadeClassifier(cv2.data.haarcascades + \"haarcascade_frontalface_default.xml\")\n",
        "smile_cascade = cv2.CascadeClassifier(cv2.data.haarcascades + 'haarcascade_smile.xml')"
      ],
      "metadata": {
        "id": "y0YI2v6_Rgmi"
      },
      "execution_count": null,
      "outputs": []
    },
    {
      "cell_type": "code",
      "execution_count": null,
      "metadata": {
        "id": "OFQ2onfG_wXC"
      },
      "outputs": [],
      "source": [
        "while True:\n",
        "    ret, frame = webCam.read()\n",
        "\n",
        "    if not ret:\n",
        "        print(\"Error: Failed to read frame from webcam.\")\n",
        "        break\n",
        "\n",
        "    grayFrame = cv2.cvtColor(frame, cv2.COLOR_BGR2GRAY)\n",
        "    faces = faceClassifier.detectMultiScale(grayFrame, scaleFactor=1.1, minNeighbors=5)\n",
        "\n",
        "    for (x, y, w, h) in faces:\n",
        "        cv2.rectangle(frame, (x, y), (x+w, y+h), (0, 255, 0), 2)\n",
        "        roi_gray = grayFrame[y:y+h, x:x+w]\n",
        "        roi_color = frame[y:y+h, x:x+w]\n",
        "\n",
        "        smiles = smile_cascade.detectMultiScale(roi_gray, 1.8, 20)\n",
        "\n",
        "        for (sx, sy, sw, sh) in smiles:\n",
        "            cv2.rectangle(roi_color, (sx, sy), (sx+sw, sy+sh), (0, 0, 255), 2)\n",
        "            cv2.putText(roi_color, \"WHY SO SERIOUS?\", (sx, sy-10), cv2.FONT_HERSHEY_SIMPLEX, 0.5, (0, 0, 255), 1, cv2.LINE_AA)\n",
        "\n",
        "    cv2.imshow(\"frame\", frame)\n",
        "\n",
        "    # Check for key press event\n",
        "    key = cv2.waitKey(1)\n",
        "    if key == 27:  # ESC key\n",
        "        break"
      ]
    },
    {
      "cell_type": "code",
      "source": [
        "# Release the webcam and close the window\n",
        "webCam.release()\n",
        "cv2.destroyAllWindows()"
      ],
      "metadata": {
        "id": "eqPBQeS1Rs_H"
      },
      "execution_count": null,
      "outputs": []
    },
    {
      "cell_type": "code",
      "execution_count": null,
      "metadata": {
        "id": "ZrPGFGt3Pmj3"
      },
      "outputs": [],
      "source": [
        "cv2.destroyAllWindows()"
      ]
    },
    {
      "cell_type": "code",
      "execution_count": null,
      "metadata": {
        "id": "PAguTcYZPmj3"
      },
      "outputs": [],
      "source": []
    }
  ],
  "metadata": {
    "colab": {
      "provenance": []
    },
    "kernelspec": {
      "display_name": "Python 3 (ipykernel)",
      "language": "python",
      "name": "python3"
    },
    "language_info": {
      "codemirror_mode": {
        "name": "ipython",
        "version": 3
      },
      "file_extension": ".py",
      "mimetype": "text/x-python",
      "name": "python",
      "nbconvert_exporter": "python",
      "pygments_lexer": "ipython3",
      "version": "3.11.3"
    }
  },
  "nbformat": 4,
  "nbformat_minor": 0
}